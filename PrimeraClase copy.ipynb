{
  "nbformat": 4,
  "nbformat_minor": 0,
  "metadata": {
    "colab": {
      "name": "PrimeraClase.ipynb",
      "provenance": [],
      "collapsed_sections": []
    },
    "kernelspec": {
      "name": "python3",
      "display_name": "Python 3"
    },
    "language_info": {
      "name": "python"
    }
  },
  "cells": [
    {
      "cell_type": "code",
      "execution_count": null,
      "metadata": {
        "colab": {
          "base_uri": "https://localhost:8080/"
        },
        "id": "N7zJ3OE3XgVH",
        "outputId": "9baa4c2b-ac55-4a2b-a271-08b3cfc5b6b6"
      },
      "outputs": [
        {
          "output_type": "stream",
          "name": "stdout",
          "text": [
            "eres lo mejor bb\n"
          ]
        }
      ],
      "source": [
        "num= 0\n",
        "if num<0:\n",
        "  print(\"No bb\")\n",
        "elif num>0:\n",
        "  print(\"Tampoco bb\")\n",
        "else:\n",
        "  print(\"eres lo mejor bb\")"
      ]
    },
    {
      "cell_type": "code",
      "source": [
        "vector = [1,2,3,4]\n",
        "for item in vector: \n",
        "  print(\"Número\",item)"
      ],
      "metadata": {
        "colab": {
          "base_uri": "https://localhost:8080/"
        },
        "id": "fPssMTrgae7Y",
        "outputId": "c0482a83-67d0-461c-a456-6beec526352e"
      },
      "execution_count": null,
      "outputs": [
        {
          "output_type": "stream",
          "name": "stdout",
          "text": [
            "Número 1\n",
            "Número 2\n",
            "Número 3\n",
            "Número 4\n"
          ]
        }
      ]
    },
    {
      "cell_type": "code",
      "source": [
        "i=0\n",
        "while i < 10:\n",
        "  i= i+1\n",
        "  print(\"número\",i)"
      ],
      "metadata": {
        "colab": {
          "base_uri": "https://localhost:8080/"
        },
        "id": "mJ2S_2_qc6PZ",
        "outputId": "7e560bed-0a71-48d6-ad2b-85d55e962b73"
      },
      "execution_count": null,
      "outputs": [
        {
          "output_type": "stream",
          "name": "stdout",
          "text": [
            "número 1\n",
            "número 2\n",
            "número 3\n",
            "número 4\n",
            "número 5\n",
            "número 6\n",
            "número 7\n",
            "número 8\n",
            "número 9\n",
            "número 10\n"
          ]
        }
      ]
    },
    {
      "cell_type": "code",
      "source": [
        "x = input(\"Ingrese algo mamahuevazo\")"
      ],
      "metadata": {
        "colab": {
          "base_uri": "https://localhost:8080/"
        },
        "id": "zyyseTildKgz",
        "outputId": "d3930883-3bc0-4b6f-ddc9-5fae6a8a4797"
      },
      "execution_count": null,
      "outputs": [
        {
          "name": "stdout",
          "output_type": "stream",
          "text": [
            "Ingrese algo mamahuevazoHoli\n"
          ]
        }
      ]
    },
    {
      "cell_type": "code",
      "source": [
        "Horas = input(\"Horas trabajadas\")\n",
        "Coste = input(\"Coste por hora\")\n",
        "\n",
        "Total= int(Horas) * int(Coste)\n",
        "print(\"el total que te corresponde es $\",Total)"
      ],
      "metadata": {
        "colab": {
          "base_uri": "https://localhost:8080/"
        },
        "id": "qIZEXLlkde08",
        "outputId": "a37590ee-9bd3-46fe-ec06-1fe05d3de349"
      },
      "execution_count": null,
      "outputs": [
        {
          "output_type": "stream",
          "name": "stdout",
          "text": [
            "Horas trabajadas15\n",
            "Coste por hora1000\n",
            "el total que te corresponde es $ 15000\n"
          ]
        }
      ]
    },
    {
      "cell_type": "code",
      "source": [
        "Peso = input(\"Digíte peso en kg\")\n",
        "Estatura = input(\"Por favor digíte su estatura\")\n",
        "Imc = float(Peso)/float(Estatura)**2\n",
        "print(\"Tu índice de masa corporal es\",round(Imc, 2))"
      ],
      "metadata": {
        "colab": {
          "base_uri": "https://localhost:8080/"
        },
        "id": "Ij5y27BOd8_3",
        "outputId": "37ad3516-2db7-4605-dba5-2e79a43ee934"
      },
      "execution_count": null,
      "outputs": [
        {
          "output_type": "stream",
          "name": "stdout",
          "text": [
            "Digíte peso en kg80\n",
            "Por favor digíte su estatura1.90\n",
            "Tu índice de masa corporal es 22.16\n"
          ]
        }
      ]
    },
    {
      "cell_type": "code",
      "source": [
        "Barra = 450\n",
        "Descuento = 0.5\n",
        "BarrasNoDia = int(input(\"Por favor digíte cuantas barras tienes vendidas que no son del día\"))\n",
        "Total = (450 * BarrasNoDia) * Descuento\n",
        "print(\"El precio habitual de una barra de dulce es:\", Barra)\n",
        "print(\"El descuento por no ser fresca es:\",int(Descuento*100), \"%\")\n",
        "print(\"El coste total es\", Total)"
      ],
      "metadata": {
        "colab": {
          "base_uri": "https://localhost:8080/"
        },
        "id": "0AU4dsn-evCD",
        "outputId": "faba1177-2f3d-4bf3-b9cf-6fa6a6d3794d"
      },
      "execution_count": null,
      "outputs": [
        {
          "output_type": "stream",
          "name": "stdout",
          "text": [
            "Por favor digíte cuantas barras tienes vendidas que no son del día80\n",
            "El precio habitual de una barra de dulce es: 450\n",
            "El descuento por no ser fresca es: 50 %\n",
            "El coste total es 18000.0\n"
          ]
        }
      ]
    },
    {
      "cell_type": "markdown",
      "source": [
        "Clase semana 6\n"
      ],
      "metadata": {
        "id": "_D-wELLMFqpA"
      }
    },
    {
      "cell_type": "code",
      "source": [
        "lista = [\"holi\",\"Comó\", \"estás\"]\n",
        "lista_num = [1,2,3,4]"
      ],
      "metadata": {
        "id": "Etd54J67hZgM"
      },
      "execution_count": null,
      "outputs": []
    },
    {
      "cell_type": "code",
      "source": [
        "print(lista + [\"1\"] +[\"1\"])\n",
        "print(lista_num + [1])\n",
        "print(lista_num * 3)\n",
        "\n",
        "print(lista.append(\"Jose\"))\n",
        "print(lista)"
      ],
      "metadata": {
        "colab": {
          "base_uri": "https://localhost:8080/"
        },
        "id": "eMYZZ_s1AMfo",
        "outputId": "0dfd6265-a93d-4bad-b681-51c73b0cda89"
      },
      "execution_count": null,
      "outputs": [
        {
          "output_type": "stream",
          "name": "stdout",
          "text": [
            "['holi', 'Comó', 'estás', '1', '1']\n",
            "[1, 2, 3, 4, 1]\n",
            "[1, 2, 3, 4, 1, 2, 3, 4, 1, 2, 3, 4]\n",
            "None\n",
            "['holi', 'Comó', 'estás', 'Jose']\n"
          ]
        }
      ]
    },
    {
      "cell_type": "code",
      "source": [
        "mi_tupla = (1,2,3,4)"
      ],
      "metadata": {
        "id": "hSawfSh4AQeG"
      },
      "execution_count": null,
      "outputs": []
    },
    {
      "cell_type": "code",
      "source": [
        "\n",
        "print(mi_tupla.count)\n",
        "print(mi_tupla.index)"
      ],
      "metadata": {
        "colab": {
          "base_uri": "https://localhost:8080/"
        },
        "id": "XYzyEPxQEcLO",
        "outputId": "2fd78b8e-914b-486c-c38e-5fb9025a3673"
      },
      "execution_count": null,
      "outputs": [
        {
          "output_type": "stream",
          "name": "stdout",
          "text": [
            "<built-in method count of tuple object at 0x7f180a3e6050>\n",
            "<built-in method index of tuple object at 0x7f180a3e6050>\n"
          ]
        }
      ]
    },
    {
      "cell_type": "code",
      "source": [
        "persona = {\"nombre\":\"Jose\", \"apellido\":\"Astudillo\",\"edad\":55}"
      ],
      "metadata": {
        "id": "vZ9N1JYbEfXd"
      },
      "execution_count": null,
      "outputs": []
    },
    {
      "cell_type": "code",
      "source": [
        "print(persona[\"edad\"])"
      ],
      "metadata": {
        "colab": {
          "base_uri": "https://localhost:8080/"
        },
        "id": "ImhcAm5FE8y_",
        "outputId": "fc71bb4b-7ab6-4ce7-d74d-68e036d17fb7"
      },
      "execution_count": null,
      "outputs": [
        {
          "output_type": "stream",
          "name": "stdout",
          "text": [
            "55\n"
          ]
        }
      ]
    },
    {
      "cell_type": "code",
      "source": [
        "t_indices = (\"nombre\", \"apellido\")"
      ],
      "metadata": {
        "id": "Q2BfX-3rFH9-"
      },
      "execution_count": null,
      "outputs": []
    },
    {
      "cell_type": "code",
      "source": [
        "for i in t_indices:\n",
        "  print(\"Llave:\",i, \"Valor:\", persona[i])"
      ],
      "metadata": {
        "colab": {
          "base_uri": "https://localhost:8080/"
        },
        "id": "1cnQOJ_-FQr3",
        "outputId": "202830a2-c045-4e79-ed9b-6ddad01f8e60"
      },
      "execution_count": null,
      "outputs": [
        {
          "output_type": "stream",
          "name": "stdout",
          "text": [
            "Llave: nombre Valor: Jose\n",
            "Llave: apellido Valor: Astudillo\n"
          ]
        }
      ]
    },
    {
      "cell_type": "markdown",
      "source": [
        "tupla dentro del función"
      ],
      "metadata": {
        "id": "Gf-L8Z7iJQ58"
      }
    },
    {
      "cell_type": "code",
      "source": [
        "def saludar(nombre):\n",
        "  nombre=\"1234\"\n",
        "  print(nombre)\n",
        "\n",
        "nombre=\"Steven\"\n",
        "saludar(nombre)\n",
        "print(nombre)"
      ],
      "metadata": {
        "colab": {
          "base_uri": "https://localhost:8080/"
        },
        "id": "Wqz4JVuWFfqQ",
        "outputId": "c2a1c26d-e445-4caf-9330-750d1c7e04d7"
      },
      "execution_count": null,
      "outputs": [
        {
          "output_type": "stream",
          "name": "stdout",
          "text": [
            "1234\n",
            "None\n"
          ]
        }
      ]
    },
    {
      "cell_type": "code",
      "source": [
        "x = int(input(\"Cantidad de números\"))\n",
        "for i in range(x):\n",
        "  y = int(input(\"Ingresé el valor \" + str(i + 1)))\n",
        "  print(y)"
      ],
      "metadata": {
        "colab": {
          "base_uri": "https://localhost:8080/"
        },
        "id": "JN9n6konI9C0",
        "outputId": "df1f1a58-98b5-440c-9865-21b8c18e16a1"
      },
      "execution_count": null,
      "outputs": [
        {
          "output_type": "stream",
          "name": "stdout",
          "text": [
            "Cantidad de números2\n",
            "Ingresé el valor 1123123\n",
            "123123\n",
            "Ingresé el valor 23123123\n",
            "3123123\n"
          ]
        }
      ]
    },
    {
      "cell_type": "code",
      "source": [
        "x2 = int(input(\"Cantidad de números\"))\n",
        "r = range(x2)\n",
        "print(r)"
      ],
      "metadata": {
        "colab": {
          "base_uri": "https://localhost:8080/"
        },
        "id": "V4jvHz4CKm1P",
        "outputId": "697aa12c-a3ee-4817-c1f2-34fe4d8b25f2"
      },
      "execution_count": null,
      "outputs": [
        {
          "output_type": "stream",
          "name": "stdout",
          "text": [
            "Cantidad de números123\n",
            "range(0, 123)\n"
          ]
        }
      ]
    },
    {
      "cell_type": "code",
      "source": [
        "def calcular_total(productos, iva=0.16):\n",
        "  sum=0\n",
        "  for p in productos:\n",
        "    sum = sum + ((p*iva) + p)\n",
        "  return sum"
      ],
      "metadata": {
        "id": "EA6TYo-yK8NG"
      },
      "execution_count": null,
      "outputs": []
    },
    {
      "cell_type": "code",
      "source": [
        "print(calcular_total([12,54,23]))\n",
        "print(calcular_total([12,54,23], iva=0.19))"
      ],
      "metadata": {
        "colab": {
          "base_uri": "https://localhost:8080/"
        },
        "id": "CGB8RDkJNAj4",
        "outputId": "131cb510-76b0-4f09-f6f5-150325dac5da"
      },
      "execution_count": null,
      "outputs": [
        {
          "output_type": "stream",
          "name": "stdout",
          "text": [
            "103.24000000000001\n",
            "105.91000000000001\n"
          ]
        }
      ]
    },
    {
      "cell_type": "code",
      "source": [
        "cantidad_numeros = int(input(\"Cantidad de números \"))\n",
        "for i in range(cantidad_numeros):\n",
        "  num_divisibles = 0\n",
        "  y = int(input(\"Ingresé el valor \" + str(i + 1) + \" \"))\n",
        "  for w in range(y):\n",
        "    respuesta = y%(w+1)\n",
        "    if respuesta == 0:\n",
        "      num_divisibles += 1\n",
        "  if num_divisibles == 2:\n",
        "    print(y, \" es primo\")\n",
        "  else:\n",
        "    print(y, \" NO es primo\")\n",
        "\n",
        "\n",
        "  "
      ],
      "metadata": {
        "id": "OxszcCTmNHEo",
        "colab": {
          "base_uri": "https://localhost:8080/"
        },
        "outputId": "4237d148-0519-4ca4-ff5d-844acc098443"
      },
      "execution_count": null,
      "outputs": [
        {
          "output_type": "stream",
          "name": "stdout",
          "text": [
            "Cantidad de números 2\n",
            "Ingresé el valor 1 3\n",
            "3  es primo\n",
            "Ingresé el valor 2 99\n",
            "99  NO es primo\n"
          ]
        }
      ]
    },
    {
      "cell_type": "markdown",
      "source": [
        "Ejercicios - Parte 2"
      ],
      "metadata": {
        "id": "CzNjFWsCVTJj"
      }
    },
    {
      "cell_type": "markdown",
      "source": [
        "Escribir un programa que almacene X cantidad de\n",
        "números en una lista y que luego de ingresar esa\n",
        "cantidad de números retorne la suma de todos ellos.\n",
        "Debe comprobar que la propiedad conmutativa de la\n",
        "suma es verdadera, para ello debe imprimir como se\n",
        "realizó esta comprobación."
      ],
      "metadata": {
        "id": "8BEXPkC_VVEb"
      }
    },
    {
      "cell_type": "code",
      "source": [
        "cantidad_numeros = int(input(\"Cantidad de números en la lista? \"))\n",
        "lista = []\n",
        "for i in range(cantidad_numeros):\n",
        "  número = int(input(\"Ingresé el número \" + str(i + 1) + \" de la lista: \"))\n",
        "  lista.append(número)\n",
        "\n",
        "print(\"su lista de números es: \",lista)\n",
        "\n",
        "total = 0\n",
        "for i in lista:\n",
        "  total += i\n",
        "\n",
        "print(\"El total de la lista es: \", total )"
      ],
      "metadata": {
        "id": "PaO4j9n8WAY9",
        "colab": {
          "base_uri": "https://localhost:8080/"
        },
        "outputId": "53992a1b-035d-4f9f-aabc-a243aba2205b"
      },
      "execution_count": null,
      "outputs": [
        {
          "output_type": "stream",
          "name": "stdout",
          "text": [
            "Cantidad de números en la lista? 5\n",
            "Ingresé el número 1 de la lista: 3\n",
            "Ingresé el número 2 de la lista: 6\n",
            "Ingresé el número 3 de la lista: 9\n",
            "Ingresé el número 4 de la lista: 8\n",
            "Ingresé el número 5 de la lista: 7\n",
            "su lista de números es:  [3, 6, 9, 8, 7]\n",
            "El total de la lista es:  33\n"
          ]
        }
      ]
    },
    {
      "cell_type": "markdown",
      "source": [
        "Escribir un programa que pida al usuario una palabra y\n",
        "muestre por pantalla si es un palíndromo."
      ],
      "metadata": {
        "id": "yisbY2O5W9Vj"
      }
    },
    {
      "cell_type": "code",
      "source": [
        "def Invertir(cadena):\n",
        "    invertida = \"\"\n",
        "    for letra in cadena:\n",
        "        invertida = letra + invertida\n",
        "    return invertida"
      ],
      "metadata": {
        "id": "C53DHxjaEoIk"
      },
      "execution_count": null,
      "outputs": []
    },
    {
      "cell_type": "code",
      "source": [
        "Palabra = str(input(\"Escribe UNA palabra \"))\n",
        "Invertida = Invertir(Palabra)\n",
        "if Palabra == Invertida:\n",
        "  print(\"La palabra \",Palabra, \" es un palíndromo\")\n",
        "else:\n",
        "  print(\"La palabra \",Palabra, \" No es un palíndromo\")\n"
      ],
      "metadata": {
        "id": "XPzRpLTlW98D",
        "colab": {
          "base_uri": "https://localhost:8080/"
        },
        "outputId": "4d36f340-cf5b-4552-92e8-8438aaeb5d07"
      },
      "execution_count": null,
      "outputs": [
        {
          "output_type": "stream",
          "name": "stdout",
          "text": [
            "Escribe UNA palabra ay ya\n",
            "La palabra  ay ya  es un palíndromo\n"
          ]
        }
      ]
    },
    {
      "cell_type": "markdown",
      "source": [
        "Escribir un programa que pregunte por una muestra de\n",
        "números, separados por comas, los guarde en una lista\n",
        "y muestre por pantalla su media y desviación típica"
      ],
      "metadata": {
        "id": "EnHnDFpVKCpt"
      }
    },
    {
      "cell_type": "code",
      "source": [
        "número = str(input(\"Escribe números sin espacios separados por , \"))\n",
        "lista = número.split(\",\")\n",
        "count = 0\n",
        "for i in lista:\n",
        "  lista[count] = float(lista[count])\n",
        "  count += 1\n",
        "\n",
        "media = sum(lista) / len(lista)\n",
        "var = sum((l-media)**2 for l in lista) / len(lista)\n",
        "st_dev = var ** (0.5)\n",
        "\n",
        "print(lista)\n",
        "print( \"La media de la lista es: \", sum(lista) / len(lista))\n",
        "print(\"La Desviación estandar es: \", st_dev)"
      ],
      "metadata": {
        "colab": {
          "base_uri": "https://localhost:8080/"
        },
        "id": "UHFLYE0IJhTT",
        "outputId": "f3dbc058-b55c-466d-a6ac-9a347632f6b8"
      },
      "execution_count": null,
      "outputs": [
        {
          "output_type": "stream",
          "name": "stdout",
          "text": [
            "Escribe números sin espacios separados por , 1.1,1.2,1.1,1\n",
            "[1.1, 1.2, 1.1, 1.0]\n",
            "La media de la lista es:  1.1\n",
            "La Desviación estandar es:  0.07071067811865474\n"
          ]
        }
      ]
    },
    {
      "cell_type": "markdown",
      "source": [
        "Escribir un programa que guarde en un diccionario los\n",
        "nombres y precios de frutas, pregunte al usuario por\n",
        "una fruta, un número de kilos y muestre por pantalla el\n",
        "precio de ese número de kilos de fruta. Si la fruta no\n",
        "está en el diccionario debe mostrar un mensaje\n",
        "informando de ello."
      ],
      "metadata": {
        "id": "xtZGK4ysOy8r"
      }
    },
    {
      "cell_type": "code",
      "source": [
        "diccionario = {'melon' : 100, 'manzana' : 100, 'banano': 300, 'pera':150}\n",
        "fruta = str(input(\"Que fruta desea: \"))\n",
        "número = float(input(\"número de kilos: \"))\n",
        "\n",
        "if fruta in diccionario:\n",
        "  total= número*diccionario[fruta]\n",
        "  print(\"La fruta \", fruta, \"Tiene un precio por kilo de\", diccionario[fruta], \"y el total es: \", total)\n",
        "else:\n",
        "  print(\"No tenemos esta fruta disponible, vuelva luego\")\n"
      ],
      "metadata": {
        "colab": {
          "base_uri": "https://localhost:8080/"
        },
        "id": "Iz3RqEq3KyeP",
        "outputId": "bbb61cac-39a6-4238-e5f0-e6ca703e7915"
      },
      "execution_count": null,
      "outputs": [
        {
          "output_type": "stream",
          "name": "stdout",
          "text": [
            "Que fruta desea: aguacate\n",
            "número de kilos: 3\n",
            "No tenemos esta fruta disponible, vuelva luego\n"
          ]
        }
      ]
    },
    {
      "cell_type": "markdown",
      "source": [
        "Crear archivos desde phyton"
      ],
      "metadata": {
        "id": "j82XdF4IKX11"
      }
    },
    {
      "cell_type": "code",
      "source": [
        "with open(\"test.txt\",\"w\") as fwriter:\n",
        "  fwriter.write(\"Holi mundo!\")"
      ],
      "metadata": {
        "id": "jTFJmqCkPTig"
      },
      "execution_count": 1,
      "outputs": []
    },
    {
      "cell_type": "markdown",
      "source": [
        "abrir archivos"
      ],
      "metadata": {
        "id": "W6jhOHOTKdHt"
      }
    },
    {
      "cell_type": "code",
      "source": [
        "with open(\"test.txt\",\"r\") as freader:\n",
        "  print(freader.readlines())\n"
      ],
      "metadata": {
        "colab": {
          "base_uri": "https://localhost:8080/"
        },
        "id": "OA5ua5zGKSTz",
        "outputId": "10c2e8a8-52ca-4fb2-a8b0-17e1053f883a"
      },
      "execution_count": 2,
      "outputs": [
        {
          "output_type": "stream",
          "name": "stdout",
          "text": [
            "['Holi mundo!']\n"
          ]
        }
      ]
    },
    {
      "cell_type": "code",
      "source": [
        "with open(\"test.txt\",\"r\") as freader:\n",
        "  lineas = freader.readlines()\n",
        "  for x in range(len(lineas)):\n",
        "    print(x, \" - \", lineas[x])"
      ],
      "metadata": {
        "colab": {
          "base_uri": "https://localhost:8080/"
        },
        "id": "11MwNqrIKqwG",
        "outputId": "f2621701-ad39-496b-acb9-936744dbf58b"
      },
      "execution_count": 3,
      "outputs": [
        {
          "output_type": "stream",
          "name": "stdout",
          "text": [
            "0  -  Holi mundo!\n"
          ]
        }
      ]
    },
    {
      "cell_type": "code",
      "source": [
        ""
      ],
      "metadata": {
        "id": "yI1Ecpk7K2-X"
      },
      "execution_count": null,
      "outputs": []
    }
  ]
}