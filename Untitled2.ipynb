{
  "nbformat": 4,
  "nbformat_minor": 0,
  "metadata": {
    "colab": {
      "name": "Untitled2.ipynb",
      "provenance": []
    },
    "kernelspec": {
      "name": "python3",
      "display_name": "Python 3"
    },
    "language_info": {
      "name": "python"
    }
  },
  "cells": [
    {
      "cell_type": "code",
      "source": [
        "with open(\"num.txt\",\"r\") as freader:\n",
        "  lineas = freader.readlines()\n",
        "  for x in range(len(lineas)):\n",
        "    num_divisibles = 0\n",
        "    y = int(lineas[x])\n",
        "    for w in range(y):\n",
        "      respuesta = y%(w+1)\n",
        "      if respuesta == 0:\n",
        "       num_divisibles += 1\n",
        "    if num_divisibles == 2:\n",
        "     print(y, \" es primo\")\n",
        "    else:\n",
        "     print(y, \" NO es primo\")"
      ],
      "metadata": {
        "colab": {
          "base_uri": "https://localhost:8080/"
        },
        "id": "yUciOEHZlHVH",
        "outputId": "d15e0089-c91c-4a43-c26c-07c1bb0c75b0"
      },
      "execution_count": 12,
      "outputs": [
        {
          "output_type": "stream",
          "name": "stdout",
          "text": [
            "2  es primo\n",
            "9  NO es primo\n",
            "12  NO es primo\n",
            "13  es primo\n",
            "23  es primo\n",
            "127  es primo\n"
          ]
        }
      ]
    }
  ]
}